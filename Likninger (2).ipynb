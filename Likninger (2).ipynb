{
 "cells": [
  {
   "cell_type": "markdown",
   "metadata": {},
   "source": [
    "# Likninger\n",
    "\n",
    "##  Numerisk matematikk og algoritmer\n",
    "\n",
    "### Hva vi skal gjøre i år\n",
    "1. Variabler\n",
    "2. Beslutninger\n",
    "3. Løkker\n",
    "4. Funksjoner\n",
    "5. Datasamlinger\n",
    "6. Plotting\n",
    "7. Datahåndtering\n",
    "8. Numerisk derivasjon\n",
    "\n",
    "### Numerisk matmatikk\n",
    "Numerisk matematikk er den delen av matten man bruker for å lage logaritmer og slikt. Det er unøyaktik matte, slurvematte, praktisk matte.\n",
    "\n",
    "Det er mange numeriske metoder å gjøre ting, feks:\n",
    "- Derivasjon\n",
    "- Løsning av likninger\n",
    "- Intergrasjon\n",
    "\n",
    "### Algoritmer\n",
    "En algoritme er en presis beskrivelse av en serie oprasjoner som skal utføres for å oppnå ett resultat.\n",
    "Man bruker algoritmer i:\n",
    "- Datamaskiner\n",
    "- Matematikk\n",
    "- Sosiale strukturer\n",
    "- Hjernen vår\n",
    "\n",
    "ALGORITMER ER IKKE VANNTETTE\n",
    "\n",
    "### Halveringsmetoden"
   ]
  },
  {
   "cell_type": "code",
   "execution_count": 50,
   "metadata": {},
   "outputs": [
    {
     "name": "stdout",
     "output_type": "stream",
     "text": [
      "(1.0000000000218279, 36)\n"
     ]
    }
   ],
   "source": [
    "def f(x):\n",
    "    return (2*x)-2\n",
    "\n",
    "\"\"\"\n",
    "a = -10\n",
    "b = 10\n",
    "\"\"\"\n",
    "\n",
    "def halverings(a,b,f,tol=1E-10):\n",
    "    m = (a + b)/ 2\n",
    "    i = 0\n",
    "    while abs(f(m)) > tol: \n",
    "        if f(a) * f(m) < 0:\n",
    "            b = m\n",
    "\n",
    "        elif f(b) * f(m) <  0:\n",
    "            a = m\n",
    "        m = (a+b)/2\n",
    "        i = i + 1\n",
    "\n",
    "    return m, i\n",
    "\n",
    "a = halverings(-5,10,f)\n",
    "\n",
    "print(a)"
   ]
  },
  {
   "cell_type": "markdown",
   "metadata": {},
   "source": [
    "### Babylonsk alogoritme for å finne røtter"
   ]
  },
  {
   "cell_type": "code",
   "execution_count": 51,
   "metadata": {},
   "outputs": [
    {
     "name": "stdout",
     "output_type": "stream",
     "text": [
      "\n",
      "Numerisk 3.162277660168379 \n",
      "Analystisk: 5.0\n"
     ]
    }
   ],
   "source": [
    "def kvadratrot(a,x0,N):\n",
    "    \"\"\"\n",
    "    a = tallet du vil ta kvadroten av\n",
    "    x0 = startgjett\n",
    "    N = antall oprasjoner\n",
    "    \"\"\"\n",
    "    x = x0\n",
    "    for i in range(N):\n",
    "        x = 0.5*(x+a/x)\n",
    "        \n",
    "    return x\n",
    "rot = kvadratrot(10,100,10)\n",
    "print('\\nNumerisk', rot,'\\nAnalystisk:',10*0.5)"
   ]
  },
  {
   "cell_type": "markdown",
   "metadata": {},
   "source": [
    "## Algoritme for primtall"
   ]
  },
  {
   "cell_type": "code",
   "execution_count": 53,
   "metadata": {},
   "outputs": [
    {
     "name": "stdout",
     "output_type": "stream",
     "text": [
      "2\n",
      "3\n",
      "5\n",
      "7\n",
      "11\n",
      "13\n",
      "17\n",
      "19\n",
      "23\n",
      "29\n",
      "31\n",
      "37\n",
      "41\n",
      "43\n",
      "47\n",
      "53\n",
      "59\n",
      "61\n",
      "67\n",
      "71\n",
      "73\n",
      "79\n",
      "83\n",
      "89\n",
      "97\n"
     ]
    }
   ],
   "source": [
    "start = 0\n",
    "slutt = 100\n",
    "  \n",
    "for tall in range(start, slutt + 1): \n",
    "\n",
    "   if tall > 1: \n",
    "       for n in range(2, tall): \n",
    "           if (tall % n) == 0: \n",
    "               break;\n",
    "       else: \n",
    "           print(tall)"
   ]
  },
  {
   "cell_type": "markdown",
   "metadata": {},
   "source": [
    "### Newtons metode\n",
    "Det er mer eller mindre at man finner en tanget og tangetet til y verdien til x verdien sv nullpunktet til tangenten.\n",
    "\n",
    "- Vi har en kontunuelig funksjon f. Vi tilnærmer nullpunktet til f med nullpunktet til tangentene til f(x), T(x) - \n",
    "\n",
    "$$y - y_{1} = a(x -x_{1})$$ eller\n",
    "$$y = f'(x_{1})+(x-x_{1})$$\n",
    "$$y = f(x_{1}) + f'(x_{1})(x-x_{1})$$\n",
    "$$0 =x_{1} -\\frac{f(x_{1})}{f'(x_{1})}$$\n",
    "\n",
    "$$$$ELLER$$$$\n",
    "\n",
    "$$x_{n+1} = x_{n}- \\frac{(f(x_{1}))}{(f'(x_{1}))}$$\n"
   ]
  },
  {
   "cell_type": "code",
   "execution_count": 63,
   "metadata": {},
   "outputs": [
    {
     "name": "stdout",
     "output_type": "stream",
     "text": [
      "Nullpunktet er: 2.0000000000000235 og løkka gikk: 14 ganger.\n"
     ]
    }
   ],
   "source": [
    "def f(x):\n",
    "    return x**2-4\n",
    "\n",
    "def fder(x):\n",
    "    return 2*x\n",
    "\n",
    "def newtons(f,fder,x,tol = 1E-8):\n",
    "    i = 0\n",
    "    while abs(f(x))> tol and i < 100:\n",
    "        x = x - f(x)/fder(x)\n",
    "        i+= 1\n",
    "    return x, i\n",
    "\n",
    "nullpunkt, antall = newtons(f,fder,2000)\n",
    "\n",
    "print(\"Nullpunktet er:\", nullpunkt, \"og løkka gikk:\", antall, \"ganger.\")"
   ]
  },
  {
   "cell_type": "markdown",
   "metadata": {},
   "source": [
    "problemet med metoden er at det er lett for den å henge seg opp. Man må derivere selv. "
   ]
  },
  {
   "cell_type": "markdown",
   "metadata": {},
   "source": [
    "## Spruv med kanoner\n",
    "\n",
    "Vi skal lage en funksjon som skal representere ballens høyde. Formelen er:\n",
    "a)\n",
    "$$ y(t)= v_{0}*sin\\theta * t-\\frac{1}{2}gt^2$$\n",
    "\n",
    "man bruker sinus i det første utrykket sånn at man ikke får null. Hvis man ser på det i forhold til enhetsirkelen, så ville cos ført til en negativ andregradslikning med ekstremalpunkt på 0. Med sinus, så får man en posisjonsgraf som er nøyaktig i forhold til bevegelsene                                                                                                        \n",
    "b)\n",
    "$$x(t)= v_{0}*cos\\theta*t$$\n",
    "formelen er mer eller mindre fart*tid*vinkel, som ikke bare er formelen for strekning men også er formelen for omkretsen av en sirkel. Dette vil gi strekningen til ballen.                                                                            \n"
   ]
  },
  {
   "cell_type": "code",
   "execution_count": 20,
   "metadata": {},
   "outputs": [
    {
     "name": "stdout",
     "output_type": "stream",
     "text": [
      "Nullpunktet er: 1.134007686030662 og løkka gikk: 8 ganger.\n",
      "19.41309718790849 meter\n",
      "1.1340073188071464\n",
      "['for', 1.0471975511965976, 'radianer ville kulen gå', 10.20606917427596, 'meter', 'for', 0.7853981633974483, 'radianer ville kulen gå', 14.433561444779038, 'meter', 'for', 0.6283185307179586, 'radianer ville kulen gå', 16.513766815511076, 'meter', 'for', 0.5235987755982988, 'radianer ville kulen gå', 17.6774303554085, 'meter']\n"
     ]
    }
   ],
   "source": [
    "from pylab import *\n",
    "\n",
    "def f(t,theta=pi/10,g=9.81):\n",
    "    return 18*sin(theta)*t-(0.5)*g*t**2\n",
    "\n",
    "def fder(t, theta=pi/10, g = 9.81):\n",
    "    return (18*sin(theta))-(g*t)\n",
    "\n",
    "def newtons(f,fder,x,tol = 1E-5):\n",
    "    i = 0\n",
    "    while abs(f(x))> tol and i < 100:\n",
    "        x = x - f(x)/fder(x)\n",
    "        i+= 1\n",
    "    return x, i\n",
    "\n",
    "def x(t,theta):\n",
    "    return 18*cos(theta)*t\n",
    "\n",
    "nullpunkt, antall = newtons(f,fder,20)\n",
    "\n",
    "print(\"Nullpunktet er:\", nullpunkt, \"og løkka gikk:\", antall, \"ganger.\")\n",
    "\n",
    "print((x(nullpunkt,pi/10)), 'meter')\n",
    "\n",
    "print((36*sin(math.pi/10))/9.81)\n",
    "\n",
    "l=[]\n",
    "\n",
    "for t in range(3,7):\n",
    "    p = x(nullpunkt,pi/t)\n",
    "    l.append('for')\n",
    "    l.append(pi/t)\n",
    "    l.append('radianer ville kulen gå')\n",
    "    l.append(p)\n",
    "    l.append('meter')\n",
    "\n",
    "print(l)\n",
    "\n"
   ]
  },
  {
   "cell_type": "markdown",
   "metadata": {},
   "source": [
    "Vi testet dette på onkelig. DA fikk vi at, i snitt, så gikk ballen 4,67 m med en startfart på 5.83 m/s"
   ]
  },
  {
   "cell_type": "code",
   "execution_count": 17,
   "metadata": {},
   "outputs": [
    {
     "name": "stdout",
     "output_type": "stream",
     "text": [
      "4.67\n",
      "3.4647197816409236\n"
     ]
    }
   ],
   "source": [
    "v = 5.83\n",
    "theta = 45 / 180 * pi\n",
    "l = 4.67\n",
    "\n",
    "g = 9.81\n",
    "\n",
    "def x(t):\n",
    "    return v*cos(theta)*t\n",
    "\n",
    "def y(t):\n",
    "    return v * sin(theta) * t - 1 / 2 * g * t ** 2\n",
    "\n",
    "def yder(t):\n",
    "    return v * sin(theta) - g * t\n",
    "\n",
    "nullpunkt, i = newtons(y, yder, 100)\n",
    "l2 = x(nullpunkt)\n",
    "\n",
    "#print(y(5.83,45 / 180 * pi,2),'meter skal kulen gå.')\n",
    "print(l)\n",
    "print(l2)"
   ]
  },
  {
   "cell_type": "markdown",
   "metadata": {},
   "source": [
    "Den teoretiske veridien passet ikke med den faktiske. Dette er fordi denne formelen beregner ikke for luftmotstand og at vinklen muligens ikke er helt riktig. Hvis vi skulle kunne skyte spurven så måtte vi teoretisk sett putte den 3,4 meter unna kanonen vår mes vi skutte den med en vinkel av 45 grader\n",
    "\n",
    "\n",
    "Det var ikke helt det vi fikk, som kan være på grunn av feilmåling\n",
    "\n"
   ]
  },
  {
   "cell_type": "code",
   "execution_count": null,
   "metadata": {},
   "outputs": [],
   "source": []
  }
 ],
 "metadata": {
  "kernelspec": {
   "display_name": "Python 3",
   "language": "python",
   "name": "python3"
  },
  "language_info": {
   "codemirror_mode": {
    "name": "ipython",
    "version": 3
   },
   "file_extension": ".py",
   "mimetype": "text/x-python",
   "name": "python",
   "nbconvert_exporter": "python",
   "pygments_lexer": "ipython3",
   "version": "3.7.3"
  }
 },
 "nbformat": 4,
 "nbformat_minor": 2
}
