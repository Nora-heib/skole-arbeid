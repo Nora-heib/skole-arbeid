{
 "cells": [
  {
   "cell_type": "markdown",
   "metadata": {},
   "source": [
    "# Bindinger\n",
    "## Kodefunksjon\n",
    "Denne koden skal definere hva slags binding som former seg mellom 2 grunnstoff\n",
    "## Oppbygging\n",
    "Denne koden bruker klasser for å gruppere informasjonen. Ut av de gruppene er informasjonen klassifisert. Selve koden trekker ut informasjonen man trenger og bruker den til å regne ut hva man vil.\n",
    "## Denne kode\n",
    "Denne koden trekker ut den elektronegative verdien til et grunnstoff som defineres i klassen grunnstodd. Det finner forskjellen i disse veridene, som  definerer hva slags binding som formes."
   ]
  },
  {
   "cell_type": "code",
   "execution_count": 4,
   "metadata": {},
   "outputs": [
    {
     "name": "stdout",
     "output_type": "stream",
     "text": [
      "LiF\n",
      "Dette er en ionisk binding\n",
      "BrCl\n",
      "Dette er en upolar kovolent binding\n",
      "K2O\n",
      "Dette er en ionisk binding\n",
      "CH4\n",
      "Dette er en upolar kovolent binding\n"
     ]
    }
   ],
   "source": [
    "class Grunnstoff:  #Klassen som definerer alle grunnstoffene\n",
    "    def __init__(self, a_num, sym, navn, masse, el_neg):\n",
    "        self.a_num = a_num #atomnummeret\n",
    "        self.sym = sym #symbolet\n",
    "        self.navn = navn #Navnet til grunnstoffet\n",
    "        self.masse = masse #Massen til grunnstoffet i U\n",
    "        self.el_neg = el_neg # Den elektronegative verdien til grunnstoffet\n",
    "        \n",
    "        \n",
    "\n",
    "#Her bruker jeg klassen til å definere alle grunnstoffene \n",
    "karbon = Grunnstoff(6, 'C', 'karbon', 12.01, 2.55)\n",
    "litium = Grunnstoff(3, 'Li', 'litium', 6.9, 0.98)\n",
    "fluor = Grunnstoff(9, 'F', 'fluor', 19.00, 3.98)\n",
    "brom = Grunnstoff(35, 'Br', 'brom', 79.90, 2.96)\n",
    "klor = Grunnstoff(17, 'Cl', 'klor', 35.45, 3.16)\n",
    "kalium = Grunnstoff(19, 'K', 'kalium', 39.10, 0.82)\n",
    "oksygen = Grunnstoff(8, 'O', 'oksygen',16, 3.44)\n",
    "hydrogen = Grunnstoff(1, 'H', 'hydrogen', 1.01, 2.2 )\n",
    "\n",
    "\n",
    "def bindingstype(g1, g2): #Funksjonen som finner forskjellen i de elektronegative verdiene, som definerer bindingstypen\n",
    "    v1 = g1.el_neg #Her trekker jeg informasjonen ut av klassen Grunnstoff\n",
    "    v2 = g2.el_neg\n",
    "    \n",
    "    dt = v2 - v1 #Her bruker jeg verdiene fra klassen til å regne ut forskjellen\n",
    "    \n",
    "    #Her bestemmer programmert hva forskjellen er, og hva det betyr. \n",
    "    if dt >= 2:\n",
    "        return print('Dette er en ionisk binding')\n",
    "    elif 2 > dt > 1.6:\n",
    "        return print('Dette er mellom en ionisk og kovalent binding')\n",
    "    elif 1.6 > dt > 0.5:\n",
    "        return print('Dette er en polar kovalent binding')\n",
    "    elif 0.5 > dt > 0.3:\n",
    "        return print('Denne bindingen er mellom en polar eller upolar kovelent binding')\n",
    "    elif 0.3 > dt:\n",
    "        return print('Dette er en upolar kovolent binding')\n",
    "        \n",
    "#Her regner programmet ut noen bindinger\n",
    "print('LiF')\n",
    "bindingstype(litium, fluor)\n",
    "print('BrCl')\n",
    "bindingstype(brom, klor)\n",
    "print('K2O')\n",
    "bindingstype(kalium, oksygen)\n",
    "print('CH4')\n",
    "bindingstype(karbon, hydrogen)\n"
   ]
  },
  {
   "cell_type": "markdown",
   "metadata": {},
   "source": [
    "## Notat far meg\n",
    "Jeg lurer bare litt om karakteren min i programmering. Jeg vet ikke hvordan jeg kunne ha jobbet mer med faget. Jeg har øvd mye og jobbet mye med å forstå ett fag som jeg var helt ny til. Jeg vet bare ikke hva jeg kunne ha gjort bedre siden jeg har jobbet så mye med faget. Jeg er oppriktelig stolt over alt jeg har prestert å lære av programmering i ett år hvor vi har hatt flere måneder hjemme og tre andre realfag å balansere arbeidsmengden med."
   ]
  },
  {
   "cell_type": "code",
   "execution_count": null,
   "metadata": {},
   "outputs": [],
   "source": []
  }
 ],
 "metadata": {
  "kernelspec": {
   "display_name": "Python 3",
   "language": "python",
   "name": "python3"
  },
  "language_info": {
   "codemirror_mode": {
    "name": "ipython",
    "version": 3
   },
   "file_extension": ".py",
   "mimetype": "text/x-python",
   "name": "python",
   "nbconvert_exporter": "python",
   "pygments_lexer": "ipython3",
   "version": "3.7.3"
  }
 },
 "nbformat": 4,
 "nbformat_minor": 2
}
